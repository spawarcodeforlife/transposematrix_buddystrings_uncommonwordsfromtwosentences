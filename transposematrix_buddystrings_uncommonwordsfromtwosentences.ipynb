{
 "cells": [
  {
   "cell_type": "code",
   "execution_count": 1,
   "id": "55b8b64d",
   "metadata": {},
   "outputs": [
    {
     "data": {
      "text/plain": [
       "'/Users/surajpawar/Desktop/Python practice_transposmatrix_buddystrings_uncommonwordsfromtwosentences'"
      ]
     },
     "execution_count": 1,
     "metadata": {},
     "output_type": "execute_result"
    }
   ],
   "source": [
    "pwd"
   ]
  },
  {
   "cell_type": "code",
   "execution_count": 3,
   "id": "196984c7",
   "metadata": {},
   "outputs": [
    {
     "name": "stdout",
     "output_type": "stream",
     "text": [
      "[1, 4, 7]\n",
      "[2, 5, 8]\n",
      "[3, 6, 9]\n"
     ]
    }
   ],
   "source": [
    "def TransposeMatrix(matrix):\n",
    "    for i in range(len(matrix)):\n",
    "        for j in range(len(matrix[0])):\n",
    "            result[j][i] = matrix[i][j]\n",
    "            \n",
    "X = [[1,2,3],\n",
    "     [4,5,6],\n",
    "     [7,8,9]]\n",
    "\n",
    "result = [[0,0,0],\n",
    "          [0,0,0],\n",
    "          [0,0,0]]\n",
    "\n",
    "TransposeMatrix(X)\n",
    "\n",
    "for r in result:\n",
    "    print(r)"
   ]
  },
  {
   "cell_type": "code",
   "execution_count": 14,
   "id": "1fd0ea86",
   "metadata": {},
   "outputs": [
    {
     "name": "stdout",
     "output_type": "stream",
     "text": [
      "True\n"
     ]
    }
   ],
   "source": [
    "class Solution:\n",
    "   def buddyStrings(self, A, B):\n",
    "      if len(A)!=len(B):\n",
    "         return False\n",
    "      elif sorted(A)!=sorted(B):\n",
    "         return False\n",
    "      elif A==B and len(set(A))==len(A):\n",
    "         return False\n",
    "      else:\n",
    "         count=0\n",
    "         for i in range(len(A)):\n",
    "            if A[i]!=B[i]:\n",
    "               count+=1\n",
    "               if count==3:\n",
    "                  return False\n",
    "         return True\n",
    "ob = Solution()\n",
    "print(ob.buddyStrings(\"ba\",\"ab\"))"
   ]
  },
  {
   "cell_type": "code",
   "execution_count": 15,
   "id": "60cf714c",
   "metadata": {},
   "outputs": [
    {
     "name": "stdout",
     "output_type": "stream",
     "text": [
      "['Learning', 'from']\n"
     ]
    }
   ],
   "source": [
    "# Function to return all uncommon words\n",
    " \n",
    " \n",
    "def UncommonWords(A, B):\n",
    " \n",
    "    # count will contain all the word counts\n",
    "    count = {}\n",
    " \n",
    "    # insert words of string A to hash\n",
    "    for word in A.split():\n",
    "        count[word] = count.get(word, 0) + 1\n",
    " \n",
    "    # insert words of string B to hash\n",
    "    for word in B.split():\n",
    "        count[word] = count.get(word, 0) + 1\n",
    " \n",
    "    # return required list of words\n",
    "    return [word for word in count if count[word] == 1]\n",
    " \n",
    " \n",
    "# Driver Code\n",
    "A = \"Geeks for Geeks\"\n",
    "B = \"Learning from Geeks for Geeks\"\n",
    " \n",
    "# Print required answer\n",
    "print(UncommonWords(A, B))"
   ]
  },
  {
   "cell_type": "code",
   "execution_count": null,
   "id": "07b8f020",
   "metadata": {},
   "outputs": [],
   "source": []
  }
 ],
 "metadata": {
  "kernelspec": {
   "display_name": "Python 3 (ipykernel)",
   "language": "python",
   "name": "python3"
  },
  "language_info": {
   "codemirror_mode": {
    "name": "ipython",
    "version": 3
   },
   "file_extension": ".py",
   "mimetype": "text/x-python",
   "name": "python",
   "nbconvert_exporter": "python",
   "pygments_lexer": "ipython3",
   "version": "3.10.9"
  }
 },
 "nbformat": 4,
 "nbformat_minor": 5
}
